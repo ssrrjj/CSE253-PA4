{
 "cells": [
  {
   "cell_type": "code",
   "execution_count": 2,
   "metadata": {},
   "outputs": [],
   "source": [
    "from data_loader import *\n",
    "from evaluate_captions import *\n",
    "import csv\n",
    "from build_vocab import *\n",
    "from torchvision import transforms\n",
    "import torch.nn as nn\n",
    "import torch.nn.functional as F\n",
    "import torch.optim as optim\n",
    "from torch.autograd import Variable\n",
    "import time\n",
    "from model import *\n",
    "from tqdm import tqdm\n",
    "import matplotlib.pyplot as plt\n",
    "import os\n",
    "import json"
   ]
  },
  {
   "cell_type": "code",
   "execution_count": 2,
   "metadata": {},
   "outputs": [
    {
     "name": "stdout",
     "output_type": "stream",
     "text": [
      "loading annotations into memory...\n",
      "Done (t=0.62s)\n",
      "creating index...\n"
     ]
    },
    {
     "name": "stderr",
     "output_type": "stream",
     "text": [
      "  0%|          | 907/414113 [00:00<00:45, 9063.44it/s]"
     ]
    },
    {
     "name": "stdout",
     "output_type": "stream",
     "text": [
      "index created!\n"
     ]
    },
    {
     "name": "stderr",
     "output_type": "stream",
     "text": [
      "100%|██████████| 414113/414113 [00:41<00:00, 9906.84it/s] \n"
     ]
    }
   ],
   "source": [
    "train_json = './data/annotations/captions_train2014.json'\n",
    "test_json = './data/annotations/captions_val2014.json'\n",
    "train_root = './data/images/train/'\n",
    "test_root = './data/images/test/'\n",
    "vocab = build_vocab(train_json)\n",
    "with open('TrainImageIds.csv', 'r') as f:\n",
    "    reader = csv.reader(f)\n",
    "    trainIds = list(reader)\n",
    "trainIds = [int(i) for i in trainIds[0]]\n",
    "#train_dataset = CocoDataset(train_root, train_json, trainIds, vocab)\n",
    "\n",
    "valIds = trainIds[-len(trainIds)//5:]\n",
    "trainIds = trainIds[:-len(trainIds)//5]\n",
    "\n",
    "with open('TestImageIds.csv', 'r') as f:\n",
    "    reader = csv.reader(f)\n",
    "    testIds = list(reader)\n",
    "testIds = [int(i) for i in testIds[0]]\n",
    "#test_dataset = CocoDataset(test_root, test_json, testIds, vocab)"
   ]
  },
  {
   "cell_type": "code",
   "execution_count": 3,
   "metadata": {},
   "outputs": [
    {
     "name": "stdout",
     "output_type": "stream",
     "text": [
      "loading annotations into memory...\n",
      "Done (t=0.74s)\n",
      "creating index...\n",
      "index created!\n",
      "loading annotations into memory...\n",
      "Done (t=0.77s)\n",
      "creating index...\n",
      "index created!\n",
      "loading annotations into memory...\n",
      "Done (t=0.31s)\n",
      "creating index...\n",
      "index created!\n"
     ]
    }
   ],
   "source": [
    "batch_size = 256\n",
    "normalize = transforms.Normalize(mean=[0.485, 0.456, 0.406],\n",
    "                                     std=[0.229, 0.224, 0.225])\n",
    "\n",
    "tsfm = transforms.Compose([\n",
    "        transforms.Resize(size=(300,300)),\n",
    "        transforms.ToTensor(),\n",
    "        normalize,\n",
    "    ])\n",
    "train_loader = get_loader(train_root, train_json, trainIds, vocab, \n",
    "                          transform=tsfm, \n",
    "                          batch_size=batch_size, \n",
    "                          shuffle=True, \n",
    "                          mode = 'train',\n",
    "                          num_workers=4)\n",
    "val_loader = get_loader(train_root, train_json, valIds, vocab, \n",
    "                          transform=tsfm, \n",
    "                          batch_size=batch_size, \n",
    "                          shuffle=True, \n",
    "                          mode = 'train',\n",
    "                          num_workers=4)\n",
    "test_loader = get_loader(test_root, test_json, testIds, vocab, \n",
    "                          transform=tsfm, \n",
    "                          batch_size=batch_size, \n",
    "                          shuffle=False, \n",
    "                          mode = 'test',\n",
    "                          num_workers=4)"
   ]
  },
  {
   "cell_type": "code",
   "execution_count": 4,
   "metadata": {},
   "outputs": [],
   "source": [
    "#pretrained word embedding\n",
    "# !curl  -L http://nlp.stanford.edu/data/glove.6B.zip>glove.6B.zip\n",
    "# !unzip glove.6B.zip\n",
    "pretrain_embed = False\n",
    "if pretrain_embed:\n",
    "    word2vec = {}\n",
    "    idx = 0\n",
    "    with open(\"glove.6B.300d.txt\",\"rb\") as f:\n",
    "        for l in tqdm(f.readlines()):\n",
    "            line = l.decode().split()\n",
    "            word2vec[line[0]] = [float(x) for x in line[1:]]\n",
    "            idx+=1\n",
    "    pretrained_weight = np.zeros((vocab.idx, 300))\n",
    "    for i in range(vocab.idx):\n",
    "        word = vocab[i]\n",
    "        if word in word2vec:\n",
    "            pretrained_weight[i] = word2vec[word]\n",
    "        else:\n",
    "            pretrained_weight[i] = np.random.randn(300)"
   ]
  },
  {
   "cell_type": "code",
   "execution_count": 5,
   "metadata": {},
   "outputs": [],
   "source": [
    "embed_dim = 300\n",
    "vocab_size= vocab.idx\n",
    "hiddem_dim = 512\n",
    "\n",
    "\n",
    "baseline = Img_Caption(encoder= res50_encoder(embed_dim), rnn=nn.RNN, \n",
    "                        vocab_size=vocab_size, \n",
    "                        embed_dim=embed_dim,\n",
    "                        hidden_dim=hiddem_dim,\n",
    "                        num_rnn_layers = 2,\n",
    "                        embed_weight = torch.tensor(pretrained_weight) if pretrain_embed else None\n",
    "                      )\n",
    "\n",
    "optimizer = optim.Adam(baseline.parameters(), lr=1e-3)\n",
    "criterion = nn.CrossEntropyLoss()"
   ]
  },
  {
   "cell_type": "code",
   "execution_count": 6,
   "metadata": {},
   "outputs": [],
   "source": [
    "\n",
    "use_gpu = torch.cuda.is_available()\n",
    "if use_gpu:\n",
    "    baseline = baseline.cuda()\n",
    "\n",
    "\n",
    "def train(mod, epochs):\n",
    "    mod.train()\n",
    "    best_loss = float('inf')\n",
    "    train_loss = []\n",
    "    val_loss = []\n",
    "    for epoch in range(epochs):\n",
    "        losss = []\n",
    "        ts = time.time()\n",
    "        for i, (imgs, caps, lengths) in enumerate(train_loader):\n",
    "            optimizer.zero_grad()\n",
    "\n",
    "            if use_gpu:\n",
    "                imgs = imgs.cuda()# Move your inputs onto the gpu\n",
    "                caps = caps.cuda()# Move your labels onto the gpu\n",
    "                #lengths = lengths.cuda()\n",
    "            \n",
    "            outputs = mod(imgs, caps, lengths)\n",
    "            targets = nn.utils.rnn.pack_padded_sequence(caps, lengths, batch_first=True)[0]\n",
    "            loss = criterion(outputs, targets)\n",
    "            losss.append(loss.item())\n",
    "            loss.backward()\n",
    "            optimizer.step()\n",
    "            \n",
    "            if i % 500 == 0:\n",
    "                print(\"epoch{}, iter{}, loss: {}\".format(epoch, i, loss.item()))\n",
    "        \n",
    "        print(\"Finish epoch {}, time elapsed {}\".format(epoch, time.time() - ts))\n",
    "        # torch.save(fcn_model, 'best_model')\n",
    "        \n",
    "        train_loss.append(np.mean(losss))\n",
    "        epoch_loss = val(mod)\n",
    "        val_loss.append(epoch_loss)\n",
    "        if epoch_loss < best_loss:\n",
    "            best_loss = epoch_loss\n",
    "            torch.save(mod, 'best_model')\n",
    "        mod.train() \n",
    "    return train_loss,val_loss\n",
    "def val(mod):\n",
    "    mod.eval()\n",
    "    \n",
    "    ts = time.time()\n",
    "    val_loss = 0\n",
    "    for i, (imgs, caps, lengths) in enumerate(val_loader):\n",
    "        optimizer.zero_grad()\n",
    "        \n",
    "        if use_gpu:\n",
    "            imgs = imgs.cuda()# Move your inputs onto the gpu\n",
    "            caps = caps.cuda()# Move your labels onto the gpu\n",
    "            #lengths = lengths.cuda()\n",
    "\n",
    "        outputs = mod(imgs, caps, lengths)\n",
    "        targets = nn.utils.rnn.pack_padded_sequence(caps, lengths, batch_first=True)[0]\n",
    "        loss = criterion(outputs, targets)\n",
    "        val_loss += loss.item()\n",
    "        \n",
    "        if i % 100 == 0:\n",
    "            print(\"iter{}, loss: {}\".format(i, loss.item()))\n",
    "    val_loss/=len(val_loader)\n",
    "    print('validation loss:', val_loss)\n",
    "    print(\"Finish validation time elapsed {}\".format(time.time() - ts))\n",
    "    return val_loss"
   ]
  },
  {
   "cell_type": "code",
   "execution_count": 10,
   "metadata": {},
   "outputs": [],
   "source": [
    "def ppl(mod):\n",
    "    mod.eval()\n",
    "    test_loss = 0\n",
    "    for i, (imgs, caps, lengths) in enumerate(test_loader):\n",
    "        optimizer.zero_grad()\n",
    "        \n",
    "        if use_gpu:\n",
    "            imgs = imgs.cuda()# Move your inputs onto the gpu\n",
    "            caps = caps.cuda()# Move your labels onto the gpu\n",
    "            #lengths = lengths.cuda()\n",
    "\n",
    "        outputs = mod(imgs, caps, lengths)\n",
    "        targets = nn.utils.rnn.pack_padded_sequence(caps, lengths, batch_first=True)[0]\n",
    "        loss = criterion(outputs, targets)\n",
    "        test_loss += loss.item()\n",
    "    test_loss/=len(test_loader)\n",
    "    print('Test loss:', test_loss)\n",
    "    ppl = np.exp(test_loss)\n",
    "    print('Perplexity:', ppl)\n",
    "    return test_loss, ppl"
   ]
  },
  {
   "cell_type": "code",
   "execution_count": 3,
   "metadata": {},
   "outputs": [
    {
     "data": {
      "text/plain": [
       "9.974182454814718"
      ]
     },
     "execution_count": 3,
     "metadata": {},
     "output_type": "execute_result"
    }
   ],
   "source": [
    "np.exp(2.30)"
   ]
  },
  {
   "cell_type": "code",
   "execution_count": null,
   "metadata": {
    "scrolled": true
   },
   "outputs": [],
   "source": [
    "epochs  = 10\n",
    "train_loss1, val_loss1 = train(baseline, epochs)"
   ]
  },
  {
   "cell_type": "code",
   "execution_count": 11,
   "metadata": {},
   "outputs": [],
   "source": [
    "def idxtowords(idxs):\n",
    "    words = []\n",
    "    for idx in idxs:\n",
    "        if idx == 3:\n",
    "            break\n",
    "        words.append(vocab[idx])\n",
    "    return \" \".join(words[1:])\n",
    "def test(mod):\n",
    "    mod.eval()\n",
    "    if os.path.exists('caption.txt'):\n",
    "        os.remove('caption.txt')\n",
    "    if os.path.exists('generation.txt'):\n",
    "        os.remove('generation.txt')\n",
    "    capfile = open('caption.txt', 'a')\n",
    "    genfile = open('generation.txt', 'a')\n",
    "    anns = []\n",
    "    idx = 0\n",
    "    for i, (imgs, caps, lengths) in enumerate(test_loader):\n",
    "    \n",
    "        if use_gpu:\n",
    "            imgs = imgs.cuda()# Move your inputs onto the gpu\n",
    "            caps = caps.cuda()# Move your labels onto the gpu\n",
    "            #lengths = lengths.cuda()\n",
    "            \n",
    "        feature = mod.encoder(imgs)\n",
    "        sampled_ids = mod.sample(feature,max_length = 20)\n",
    "        \n",
    "         \n",
    "#         sampled_ids = sampled_ids[0].cpu().numpy()\n",
    "        \n",
    "#         sampled_caption = []\n",
    "        \n",
    "#         for word_id in sampled_ids:\n",
    "#             word = vocab.idx2word[word_id]\n",
    "#             sampled_caption.append(word)\n",
    "#             if word == '<end>':\n",
    "#                 break\n",
    "                \n",
    "#         sentence = ' '.join(sampled_caption)\n",
    "#         print (sentence)\n",
    "        \n",
    "#         sampled_caption = []\n",
    "        \n",
    "#         for word_id in caps[0].cpu().numpy():\n",
    "#             word = vocab.idx2word[word_id]\n",
    "#             sampled_caption.append(word)\n",
    "#             if word == '<end>':\n",
    "#                 break\n",
    "#         sentence = ' '.join(sampled_caption)\n",
    "#         print(sentence)\n",
    "#         plt.imshow(np.asarray(imgs[0].cpu().permute(1,2,0)))\n",
    "        sampled_ids = sampled_ids.cpu().numpy()\n",
    "        caps = caps.cpu().numpy()\n",
    "        for i in range(len(caps)):\n",
    "            capfile.write(idxtowords(caps[i])+'\\n')\n",
    "            genfile.write(idxtowords(sampled_ids[i])+'\\n')\n",
    "            ann = {'image_id':testIds[idx], 'caption':idxtowords(sampled_ids[i])}\n",
    "            anns.append(ann)\n",
    "            idx+=1\n",
    "    with open('res.json','w') as fp:\n",
    "        \n",
    "        json.dump(anns, fp)\n",
    "        \n",
    "#         imgs = np.asarray(imgs.cpu().permute(0,2,3,1))\n",
    "#         for i in range(10):\n",
    "#             generate = idxtowords(sampled_ids[i])\n",
    "#             label = idxtowords(caps[i])\n",
    "#             print('label:',label)\n",
    "#             print('generate:',generate)\n",
    "#             img = imgs[i]\n",
    "#             img-=np.min(img)\n",
    "#             img/=np.max(img)\n",
    "#             plt.imshow(img)\n",
    "#             plt.show()\n",
    "#         break\n",
    "        \n",
    "def test_stochastic(mod,temp):\n",
    "    mod.eval()\n",
    "    if os.path.exists('caption.txt'):\n",
    "        os.remove('caption.txt')\n",
    "    if os.path.exists('generation.txt'):\n",
    "        os.remove('generation.txt')\n",
    "    capfile = open('caption.txt', 'a')\n",
    "    genfile = open('generation.txt', 'a')\n",
    "    generate_caps = []\n",
    "    anns = []\n",
    "    idx = 0\n",
    "    for i, (imgs, caps, lengths) in enumerate(test_loader):\n",
    "    \n",
    "        if use_gpu:\n",
    "            imgs = imgs.cuda()# Move your inputs onto the gpu\n",
    "            caps = caps.cuda()# Move your labels onto the gpu\n",
    "            #lengths = lengths.cuda()\n",
    "            \n",
    "        feature = mod.encoder(imgs)\n",
    "        sampled_ids = mod.Stochastic_sample(feature,max_length = 20,temp = temp)\n",
    "        \n",
    "        sampled_ids = sampled_ids.cpu().numpy()\n",
    "        caps = caps.cpu().numpy()\n",
    "        for i in range(len(caps)):\n",
    "            capfile.write(idxtowords(caps[i])+'\\n')\n",
    "            genfile.write(idxtowords(sampled_ids[i])+'\\n')\n",
    "            ann = {'image_id':testIds[idx], 'caption':idxtowords(sampled_ids[i])}\n",
    "            \n",
    "            anns.append(ann)\n",
    "            idx+=1\n",
    "    with open('res.json','w') as fp:\n",
    "        \n",
    "        json.dump(anns, fp)\n",
    "    capfile.close()\n",
    "    genfile.close()\n",
    "        "
   ]
  },
  {
   "cell_type": "code",
   "execution_count": 12,
   "metadata": {},
   "outputs": [
    {
     "name": "stdout",
     "output_type": "stream",
     "text": [
      "Test loss: 2.4580554167429605\n",
      "Perplexity: 11.682072675406475\n"
     ]
    },
    {
     "data": {
      "text/plain": [
       "(2.4580554167429605, 11.682072675406475)"
      ]
     },
     "execution_count": 12,
     "metadata": {},
     "output_type": "execute_result"
    }
   ],
   "source": [
    "baseline = torch.load(\"best_model\")\n",
    "ppl(baseline)"
   ]
  },
  {
   "cell_type": "code",
   "execution_count": null,
   "metadata": {
    "scrolled": true
   },
   "outputs": [],
   "source": [
    "#test_stochastic(mod,0.1)\n",
    "test(baseline)"
   ]
  },
  {
   "cell_type": "code",
   "execution_count": null,
   "metadata": {},
   "outputs": [],
   "source": [
    "BLEU_1 , BLEU_4  = evaluate_captions('./data/annotations/captions_val2014.json', 'res.json')"
   ]
  },
  {
   "cell_type": "markdown",
   "metadata": {},
   "source": [
    "LSTM no pretrain embedding\n",
    "Deterministic  BLEU_1 :   33.27         BLEU_4:  0.2\n",
    "temp = 0.1     BLEU_1 :   33.31         BLEU_4:  0.196\n",
    "RNN no pretrain\n",
    "Deterministic  BLEU_1 :   87.04         BLEU_4:  17.22"
   ]
  },
  {
   "cell_type": "code",
   "execution_count": null,
   "metadata": {},
   "outputs": [],
   "source": [
    "import matplotlib.pyplot as plt\n",
    "epoch = np.arange(0,10)\n",
    "plt.figure(figsize = (10,8))\n",
    "plt.plot(epoch,train_loss1,label = \"Train loss\")\n",
    "plt.plot(epoch,val_loss1,label = \"Validation loss\")\n",
    "plt.xlabel('epoch')\n",
    "plt.ylabel('Loss')\n",
    "plt.legend()\n",
    "plt.show()"
   ]
  },
  {
   "cell_type": "code",
   "execution_count": null,
   "metadata": {},
   "outputs": [],
   "source": [
    "fo = open(\"log.txt\", \"w\")\n",
    "fo.write(str(train_loss))\n",
    "fo.write(\"\\n\")\n",
    "fo.write(str(val_loss))\n",
    "\n",
    "fo.close()\n"
   ]
  }
 ],
 "metadata": {
  "kernelspec": {
   "display_name": "Python 3",
   "language": "python",
   "name": "python3"
  },
  "language_info": {
   "codemirror_mode": {
    "name": "ipython",
    "version": 3
   },
   "file_extension": ".py",
   "mimetype": "text/x-python",
   "name": "python",
   "nbconvert_exporter": "python",
   "pygments_lexer": "ipython3",
   "version": "3.7.3"
  }
 },
 "nbformat": 4,
 "nbformat_minor": 2
}
